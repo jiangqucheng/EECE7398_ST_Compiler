{
 "cells": [
  {
   "cell_type": "markdown",
   "metadata": {},
   "source": [
    "# Playground - tryout dead code elimination "
   ]
  },
  {
   "cell_type": "code",
   "execution_count": 1,
   "metadata": {},
   "outputs": [],
   "source": [
    "import os\n",
    "import bril_model as bm\n",
    "from bril_model.form_blocks import print_blocks, form_blocks\n",
    "\n",
    "DEMO_BRIL_FILE = \"../bril/benchmarks/core/hanoi.bril\"\n",
    "DEMO_BRIL_FILE = \"../bril/benchmarks/core/birthday.bril\"\n",
    "\n",
    "bbs = bm.BrilScript(script_name=os.path.basename(DEMO_BRIL_FILE), file_dir=os.path.dirname(DEMO_BRIL_FILE))"
   ]
  },
  {
   "cell_type": "code",
   "execution_count": 2,
   "metadata": {},
   "outputs": [
    {
     "name": "stdout",
     "output_type": "stream",
     "text": [
      "BrilScript ::\tbirthday.bril <2 func> @ ../bril/benchmarks/core\n",
      "\n",
      "BrilFunction ::\tmain ( n<float> ) -> None: <6 instr>\n",
      "  BrilInstruction_ValOp ::\tv0 (float) <- [id] n\n",
      "  BrilInstruction_ValOp ::\tc (float) <- [call] probability\n",
      "  BrilInstruction_ValOp ::\tc (float) <- [id] c\n",
      "  BrilInstruction_ValOp ::\tv1 (float) <- [id] c\n",
      "  BrilInstruction_EffOp ::\t[print] v1\n",
      "  BrilInstruction_Const ::\tv2 (int) <- [const] 0\n",
      "\n",
      "BrilFunction ::\tprobability ( n<float> ) -> float: <36 instr>\n",
      "  BrilInstruction_Const ::\tv0 (float) <- [const] 1\n",
      "  BrilInstruction_ValOp ::\tprob (float) <- [id] v0\n",
      "  BrilInstruction_Const ::\tv2 (float) <- [const] 1\n",
      "  BrilInstruction_ValOp ::\ti (float) <- [id] v2\n",
      "  BrilInstruction_Label ::\t<|.for.cond.1|>\n",
      "  BrilInstruction_ValOp ::\tv3 (float) <- [id] i\n",
      "  BrilInstruction_ValOp ::\tv4 (float) <- [id] n\n",
      "  BrilInstruction_ValOp ::\tv5 (bool) <- [flt] v3, v4\n",
      "  BrilInstruction_EffOp ::\t[br] for.body.1, for.end.1\n",
      "  BrilInstruction_Label ::\t<|.for.body.1|>\n",
      "  BrilInstruction_Const ::\tv6 (float) <- [const] 365\n",
      "  BrilInstruction_ValOp ::\tv7 (float) <- [id] i\n",
      "  BrilInstruction_ValOp ::\tv8 (float) <- [fsub] v6, v7\n",
      "  BrilInstruction_ValOp ::\tlog (float) <- [id] v8\n",
      "  BrilInstruction_ValOp ::\tv9 (float) <- [id] log\n",
      "  BrilInstruction_Const ::\tv10 (float) <- [const] 365\n",
      "  BrilInstruction_ValOp ::\tv11 (float) <- [fdiv] v9, v10\n",
      "  BrilInstruction_ValOp ::\tlogUpdated (float) <- [id] v11\n",
      "  BrilInstruction_ValOp ::\tv12 (float) <- [id] prob\n",
      "  BrilInstruction_ValOp ::\tv13 (float) <- [id] logUpdated\n",
      "  BrilInstruction_ValOp ::\tv14 (float) <- [fmul] v12, v13\n",
      "  BrilInstruction_ValOp ::\tprob (float) <- [id] v14\n",
      "  BrilInstruction_ValOp ::\tv15 (float) <- [id] i\n",
      "  BrilInstruction_Const ::\tv16 (float) <- [const] 1\n",
      "  BrilInstruction_ValOp ::\tv17 (float) <- [fadd] v15, v16\n",
      "  BrilInstruction_ValOp ::\ti (float) <- [id] v17\n",
      "  BrilInstruction_EffOp ::\t[jmp] for.cond.1\n",
      "  BrilInstruction_Label ::\t<|.for.end.1|>\n",
      "  BrilInstruction_Const ::\tv18 (float) <- [const] 1\n",
      "  BrilInstruction_ValOp ::\tv19 (float) <- [id] prob\n",
      "  BrilInstruction_Const ::\tv20 (float) <- [const] 100\n",
      "  BrilInstruction_ValOp ::\tv21 (float) <- [fmul] v19, v20\n",
      "  BrilInstruction_Const ::\tv22 (float) <- [const] 100\n",
      "  BrilInstruction_ValOp ::\tv23 (float) <- [fdiv] v21, v22\n",
      "  BrilInstruction_ValOp ::\tv24 (float) <- [fsub] v18, v23\n",
      "  BrilInstruction_EffOp ::\t[ret] v24\n",
      "\n"
     ]
    }
   ],
   "source": [
    "bbs.show()"
   ]
  },
  {
   "cell_type": "code",
   "execution_count": 3,
   "metadata": {},
   "outputs": [
    {
     "name": "stdout",
     "output_type": "stream",
     "text": [
      "BrilScript ::\tbirthday.bril <2 func> @ ../bril/benchmarks/core \n",
      "\n",
      "BrilFunction ::\tmain ( n<float> ) -> None: <6 instr>\n",
      "anonymous block:\n",
      "  BrilInstruction_ValOp ::\tv0 (float) <- [id] n\n",
      "  BrilInstruction_ValOp ::\tc (float) <- [call] probability\n",
      "  BrilInstruction_ValOp ::\tc (float) <- [id] c\n",
      "  BrilInstruction_ValOp ::\tv1 (float) <- [id] c\n",
      "  BrilInstruction_EffOp ::\t[print] v1\n",
      "  BrilInstruction_Const ::\tv2 (int) <- [const] 0\n",
      "\n",
      "BrilFunction ::\tprobability ( n<float> ) -> float: <36 instr>\n",
      "anonymous block:\n",
      "  BrilInstruction_Const ::\tv0 (float) <- [const] 1\n",
      "  BrilInstruction_ValOp ::\tprob (float) <- [id] v0\n",
      "  BrilInstruction_Const ::\tv2 (float) <- [const] 1\n",
      "  BrilInstruction_ValOp ::\ti (float) <- [id] v2\n",
      "block \"for.cond.1\":\n",
      "  BrilInstruction_ValOp ::\tv3 (float) <- [id] i\n",
      "  BrilInstruction_ValOp ::\tv4 (float) <- [id] n\n",
      "  BrilInstruction_ValOp ::\tv5 (bool) <- [flt] v3, v4\n",
      "  BrilInstruction_EffOp ::\t[br] for.body.1, for.end.1\n",
      "block \"for.body.1\":\n",
      "  BrilInstruction_Const ::\tv6 (float) <- [const] 365\n",
      "  BrilInstruction_ValOp ::\tv7 (float) <- [id] i\n",
      "  BrilInstruction_ValOp ::\tv8 (float) <- [fsub] v6, v7\n",
      "  BrilInstruction_ValOp ::\tlog (float) <- [id] v8\n",
      "  BrilInstruction_ValOp ::\tv9 (float) <- [id] log\n",
      "  BrilInstruction_Const ::\tv10 (float) <- [const] 365\n",
      "  BrilInstruction_ValOp ::\tv11 (float) <- [fdiv] v9, v10\n",
      "  BrilInstruction_ValOp ::\tlogUpdated (float) <- [id] v11\n",
      "  BrilInstruction_ValOp ::\tv12 (float) <- [id] prob\n",
      "  BrilInstruction_ValOp ::\tv13 (float) <- [id] logUpdated\n",
      "  BrilInstruction_ValOp ::\tv14 (float) <- [fmul] v12, v13\n",
      "  BrilInstruction_ValOp ::\tprob (float) <- [id] v14\n",
      "  BrilInstruction_ValOp ::\tv15 (float) <- [id] i\n",
      "  BrilInstruction_Const ::\tv16 (float) <- [const] 1\n",
      "  BrilInstruction_ValOp ::\tv17 (float) <- [fadd] v15, v16\n",
      "  BrilInstruction_ValOp ::\ti (float) <- [id] v17\n",
      "  BrilInstruction_EffOp ::\t[jmp] for.cond.1\n",
      "block \"for.end.1\":\n",
      "  BrilInstruction_Const ::\tv18 (float) <- [const] 1\n",
      "  BrilInstruction_ValOp ::\tv19 (float) <- [id] prob\n",
      "  BrilInstruction_Const ::\tv20 (float) <- [const] 100\n",
      "  BrilInstruction_ValOp ::\tv21 (float) <- [fmul] v19, v20\n",
      "  BrilInstruction_Const ::\tv22 (float) <- [const] 100\n",
      "  BrilInstruction_ValOp ::\tv23 (float) <- [fdiv] v21, v22\n",
      "  BrilInstruction_ValOp ::\tv24 (float) <- [fsub] v18, v23\n",
      "  BrilInstruction_EffOp ::\t[ret] v24\n",
      "\n"
     ]
    }
   ],
   "source": [
    "print(bbs,\"\\n\")\n",
    "print_blocks(bbs)"
   ]
  },
  {
   "cell_type": "code",
   "execution_count": 9,
   "metadata": {},
   "outputs": [
    {
     "name": "stdout",
     "output_type": "stream",
     "text": [
      "BrilFunction ::\tmain ( n<float> ) -> None: <6 instr>\n",
      "BrilInstruction_ValOp ::\tv0 (float) <- [id] n\n",
      "BrilInstruction_ValOp ::\tc (float) <- [call] probability\n",
      "BrilInstruction_ValOp ::\tc (float) <- [id] c\n",
      "BrilInstruction_ValOp ::\tv1 (float) <- [id] c\n",
      "BrilInstruction_EffOp ::\t[print] v1\n",
      "BrilInstruction_Const ::\tv2 (int) <- [const] 0\n",
      "\n",
      "BrilFunction ::\tprobability ( n<float> ) -> float: <36 instr>\n",
      "BrilInstruction_Const ::\tv0 (float) <- [const] 1\n",
      "BrilInstruction_ValOp ::\tprob (float) <- [id] v0\n",
      "BrilInstruction_Const ::\tv2 (float) <- [const] 1\n",
      "BrilInstruction_ValOp ::\ti (float) <- [id] v2\n",
      "BrilInstruction_Label ::\t<|.for.cond.1|>\n",
      "BrilInstruction_ValOp ::\tv3 (float) <- [id] i\n",
      "BrilInstruction_ValOp ::\tv4 (float) <- [id] n\n",
      "BrilInstruction_ValOp ::\tv5 (bool) <- [flt] v3, v4\n",
      "BrilInstruction_EffOp ::\t[br] for.body.1, for.end.1\n",
      "BrilInstruction_Label ::\t<|.for.body.1|>\n",
      "BrilInstruction_Const ::\tv6 (float) <- [const] 365\n",
      "BrilInstruction_ValOp ::\tv7 (float) <- [id] i\n",
      "BrilInstruction_ValOp ::\tv8 (float) <- [fsub] v6, v7\n",
      "BrilInstruction_ValOp ::\tlog (float) <- [id] v8\n",
      "BrilInstruction_ValOp ::\tv9 (float) <- [id] log\n",
      "BrilInstruction_Const ::\tv10 (float) <- [const] 365\n",
      "BrilInstruction_ValOp ::\tv11 (float) <- [fdiv] v9, v10\n",
      "BrilInstruction_ValOp ::\tlogUpdated (float) <- [id] v11\n",
      "BrilInstruction_ValOp ::\tv12 (float) <- [id] prob\n",
      "BrilInstruction_ValOp ::\tv13 (float) <- [id] logUpdated\n",
      "BrilInstruction_ValOp ::\tv14 (float) <- [fmul] v12, v13\n",
      "BrilInstruction_ValOp ::\tprob (float) <- [id] v14\n",
      "BrilInstruction_ValOp ::\tv15 (float) <- [id] i\n",
      "BrilInstruction_Const ::\tv16 (float) <- [const] 1\n",
      "BrilInstruction_ValOp ::\tv17 (float) <- [fadd] v15, v16\n",
      "BrilInstruction_ValOp ::\ti (float) <- [id] v17\n",
      "BrilInstruction_EffOp ::\t[jmp] for.cond.1\n",
      "BrilInstruction_Label ::\t<|.for.end.1|>\n",
      "BrilInstruction_Const ::\tv18 (float) <- [const] 1\n",
      "BrilInstruction_ValOp ::\tv19 (float) <- [id] prob\n",
      "BrilInstruction_Const ::\tv20 (float) <- [const] 100\n",
      "BrilInstruction_ValOp ::\tv21 (float) <- [fmul] v19, v20\n",
      "BrilInstruction_Const ::\tv22 (float) <- [const] 100\n",
      "BrilInstruction_ValOp ::\tv23 (float) <- [fdiv] v21, v22\n",
      "BrilInstruction_ValOp ::\tv24 (float) <- [fsub] v18, v23\n",
      "BrilInstruction_EffOp ::\t[ret] v24\n",
      "\n"
     ]
    }
   ],
   "source": [
    "import itertools\n",
    "from typing import Iterable\n",
    "\n",
    "def flatten(ll: Iterable):\n",
    "    \"\"\"Flatten an iterable of iterable to a single list.\n",
    "    \"\"\"\n",
    "    return list(itertools.chain(*ll))\n",
    "\n",
    "def print_funcs(bril: bm.BrilScript):\n",
    "    for each_func in bril.functions:\n",
    "        print(each_func)\n",
    "        for x in flatten(form_blocks(each_func.instrs)):\n",
    "            print(x)\n",
    "        print()\n",
    "\n",
    "print_funcs(bbs)"
   ]
  }
 ],
 "metadata": {
  "kernelspec": {
   "display_name": "course-eece7398-st-compiler",
   "language": "python",
   "name": "python3"
  },
  "language_info": {
   "codemirror_mode": {
    "name": "ipython",
    "version": 3
   },
   "file_extension": ".py",
   "mimetype": "text/x-python",
   "name": "python",
   "nbconvert_exporter": "python",
   "pygments_lexer": "ipython3",
   "version": "3.10.14"
  }
 },
 "nbformat": 4,
 "nbformat_minor": 2
}
