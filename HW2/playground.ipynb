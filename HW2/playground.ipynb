{
 "cells": [
  {
   "cell_type": "markdown",
   "metadata": {},
   "source": [
    "# Playground - tryout dead code elimination "
   ]
  },
  {
   "cell_type": "code",
   "execution_count": 1,
   "metadata": {},
   "outputs": [
    {
     "name": "stdout",
     "output_type": "stream",
     "text": [
      "BrilScript ::\thanoi.bril <2 func> @ ../bril/benchmarks/core\n",
      "\n",
      "BrilFunction ::\thanoi ( disks<int>, src<int>, dst<int>, spare<int> ) -> None: <11 instr>\n",
      "BrilInstruction_Constant ::\tzero (int) <- [const] 0\n",
      "BrilInstruction_ValueOp ::\tpos (bool) <- [gt] disks, zero\n",
      "BrilInstruction_EffectOp ::\t[br] then, else\n",
      "BrilInstruction_Label ::\t[then]\n",
      "BrilInstruction_Constant ::\tone (int) <- [const] 1\n",
      "BrilInstruction_ValueOp ::\tabove (int) <- [sub] disks, one\n",
      "BrilInstruction_EffectOp ::\t[call] hanoi\n",
      "BrilInstruction_EffectOp ::\t[print] src, dst\n",
      "BrilInstruction_EffectOp ::\t[call] hanoi\n",
      "BrilInstruction_Label ::\t[else]\n",
      "BrilInstruction_EffectOp ::\t[ret] \n",
      "\n",
      "BrilFunction ::\tmain ( disks<int> ) -> None: <4 instr>\n",
      "BrilInstruction_Constant ::\tsrc (int) <- [const] 0\n",
      "BrilInstruction_Constant ::\tdst (int) <- [const] 2\n",
      "BrilInstruction_Constant ::\tspare (int) <- [const] 1\n",
      "BrilInstruction_EffectOp ::\t[call] hanoi\n",
      "\n"
     ]
    }
   ],
   "source": [
    "import os\n",
    "import bril_model as bm\n",
    "\n",
    "DEMO_BRIL_FILE = \"../bril/benchmarks/core/hanoi.bril\"\n",
    "# DEMO_BRIL_FILE = \"../bril/benchmarks/core/birthday.bril\"\n",
    "\n",
    "bbs = bm.BrilScript(script_name=os.path.basename(DEMO_BRIL_FILE), file_dir=os.path.dirname(DEMO_BRIL_FILE))\n",
    "\n",
    "print(bbs)\n",
    "print()\n",
    "for ff in bbs.functions:\n",
    "    print(ff)\n",
    "    for ii in ff.instrs:\n",
    "        print(ii)\n",
    "    print()"
   ]
  }
 ],
 "metadata": {
  "kernelspec": {
   "display_name": "course-eece7398-st-compiler",
   "language": "python",
   "name": "python3"
  },
  "language_info": {
   "codemirror_mode": {
    "name": "ipython",
    "version": 3
   },
   "file_extension": ".py",
   "mimetype": "text/x-python",
   "name": "python",
   "nbconvert_exporter": "python",
   "pygments_lexer": "ipython3",
   "version": "3.10.14"
  }
 },
 "nbformat": 4,
 "nbformat_minor": 2
}
